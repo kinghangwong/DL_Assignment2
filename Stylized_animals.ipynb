{
 "cells": [
  {
   "cell_type": "markdown",
   "metadata": {},
   "source": [
    "https://github.com/rgeirhos/Stylized-ImageNet"
   ]
  }
 ],
 "metadata": {
  "kernelspec": {
   "display_name": "kh_base",
   "language": "python",
   "name": "python3"
  },
  "language_info": {
   "name": "python",
   "version": "3.10.13"
  }
 },
 "nbformat": 4,
 "nbformat_minor": 2
}
