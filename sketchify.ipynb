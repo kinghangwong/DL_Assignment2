{
 "cells": [
  {
   "cell_type": "markdown",
   "metadata": {},
   "source": [
    "# Aim: turn a folder of images into sketch versions\n",
    "\n",
    "No transformation\n",
    "\n",
    "No preprocessing"
   ]
  },
  {
   "cell_type": "markdown",
   "metadata": {},
   "source": [
    "https://www.geeksforgeeks.org/convert-image-into-sketch/"
   ]
  },
  {
   "cell_type": "code",
   "execution_count": 7,
   "metadata": {},
   "outputs": [],
   "source": [
    "import os"
   ]
  },
  {
   "cell_type": "code",
   "execution_count": 3,
   "metadata": {},
   "outputs": [
    {
     "name": "stderr",
     "output_type": "stream",
     "text": [
      "/tmp/ipykernel_923641/1977760628.py:33: DeprecationWarning: Starting with ImageIO v3 the behavior of this function will switch to that of iio.v3.imread. To keep the current behavior (and make this warning disappear) use `import imageio.v2 as imageio` or call `imageio.v2.imread` directly.\n",
      "  ss = imageio.imread(img)\n",
      "/tmp/ipykernel_923641/1977760628.py:40: DeprecationWarning: Please use `gaussian_filter` from the `scipy.ndimage` namespace, the `scipy.ndimage.filters` namespace is deprecated.\n",
      "  blur = scipy.ndimage.filters.gaussian_filter(i, sigma=13)\n"
     ]
    },
    {
     "data": {
      "text/plain": [
       "True"
      ]
     },
     "execution_count": 3,
     "metadata": {},
     "output_type": "execute_result"
    }
   ],
   "source": [
    "# Python program to Convert Image into sketch\n",
    " \n",
    " \n",
    "# import all the required modules\n",
    "import numpy as np\n",
    "import imageio\n",
    "import scipy.ndimage\n",
    "import cv2\n",
    " \n",
    " \n",
    "# take image input and assign variable to it\n",
    "img = \"animals/antelope/0a37838e99.jpg\"\n",
    " \n",
    " \n",
    "# function to convert image into sketch\n",
    "def rgb2gray(rgb):\n",
    "    # 2 dimensional array to convert image to sketch\n",
    "    return np.dot(rgb[..., :3], [0.2989, 0.5870, .1140])\n",
    " \n",
    " \n",
    "def dodge(front, back):\n",
    " \n",
    "    # if image is greater than 255 (which is not possible) it will convert it to 255\n",
    "    final_sketch = front*255/(255-back)\n",
    "    final_sketch[final_sketch > 255] = 255\n",
    "    final_sketch[back == 255] = 255\n",
    " \n",
    "    # to convert any suitable existing column to categorical type we will use aspect function\n",
    "    # and uint8 is for 8-bit signed integer\n",
    "    return final_sketch.astype('uint8')\n",
    " \n",
    " \n",
    "ss = imageio.imread(img)\n",
    "gray = rgb2gray(ss)\n",
    " \n",
    "i = 255-gray\n",
    " \n",
    " \n",
    "# to convert into a blur image\n",
    "blur = scipy.ndimage.filters.gaussian_filter(i, sigma=13)\n",
    " \n",
    " \n",
    "# calling the function\n",
    "r = dodge(blur, gray)\n",
    " \n",
    " \n",
    "cv2.imwrite('./figures/1.png', r)"
   ]
  },
  {
   "cell_type": "markdown",
   "metadata": {},
   "source": [
    "##### alternative"
   ]
  },
  {
   "cell_type": "markdown",
   "metadata": {},
   "source": [
    "https://www.askpython.com/python/examples/images-to-pencil-sketch"
   ]
  },
  {
   "cell_type": "code",
   "execution_count": 10,
   "metadata": {},
   "outputs": [],
   "source": [
    "import cv2\n",
    "import matplotlib.pyplot as plt"
   ]
  },
  {
   "cell_type": "code",
   "execution_count": 14,
   "metadata": {},
   "outputs": [
    {
     "data": {
      "text/plain": [
       "True"
      ]
     },
     "execution_count": 14,
     "metadata": {},
     "output_type": "execute_result"
    }
   ],
   "source": [
    "img = './figures/horse.png'\n",
    "\n",
    "img = cv2.imread(img)\n",
    "img = cv2.cvtColor(img,cv2.COLOR_BGR2RGB)\n",
    "\n",
    "img_gray = cv2.cvtColor(img, cv2.COLOR_BGR2GRAY)\n",
    "img_invert = cv2.bitwise_not(img_gray)\n",
    "\n",
    "img_smoothing = cv2.GaussianBlur(img_invert, (21, 21),sigmaX=0, sigmaY=0)\n",
    "final = cv2.divide(img_gray, 255 - img_smoothing, scale=255)\n",
    "\n",
    "cv2.imwrite('./figures/1a.png', final)"
   ]
  },
  {
   "cell_type": "markdown",
   "metadata": {},
   "source": [
    "#### Pipeline"
   ]
  },
  {
   "cell_type": "code",
   "execution_count": null,
   "metadata": {},
   "outputs": [],
   "source": [
    "import numpy as np\n",
    "import imageio\n",
    "import scipy.ndimage\n",
    "import cv2"
   ]
  },
  {
   "cell_type": "code",
   "execution_count": 1,
   "metadata": {},
   "outputs": [],
   "source": [
    "# function to convert image into sketch\n",
    "def rgb2gray(rgb):\n",
    "    # 2 dimensional array to convert image to sketch\n",
    "    return np.dot(rgb[..., :3], [0.2989, 0.5870, .1140])\n",
    " \n",
    " \n",
    "def dodge(front, back):\n",
    " \n",
    "    # if image is greater than 255 (which is not possible) it will convert it to 255\n",
    "    final_sketch = front*255/(255-back)\n",
    "    final_sketch[final_sketch > 255] = 255\n",
    "    final_sketch[back == 255] = 255\n",
    " \n",
    "    # to convert any suitable existing column to categorical type we will use aspect function\n",
    "    # and uint8 is for 8-bit signed integer\n",
    "    return final_sketch.astype('uint8')\n",
    " \n",
    "def convert_image(im_path):\n",
    " \n",
    "    ss = imageio.imread(im_path)\n",
    "    gray = rgb2gray(ss)\n",
    "    i = 255-gray\n",
    "    \n",
    "    # to convert into a blur image\n",
    "    blur = scipy.ndimage.filters.gaussian_filter(i, sigma=13)\n",
    "    \n",
    "    # calling the function\n",
    "    grayscale_image = dodge(blur, gray)\n",
    "\n",
    "    rgb_image = cv2.cvtColor(grayscale_image, cv2.COLOR_GRAY2BGR)\n",
    "\n",
    "    output_directory = './figures/'  #\n",
    "    output_class_dir = os.path.basename(os.path.dirname(im_path))\n",
    "    output_filename = os.path.basename(im_path)\n",
    "    complete_path = os.path.join(output_directory, output_class_dir, output_filename)\n",
    "\n",
    "    cv2.imwrite(complete_path, rgb_image)"
   ]
  },
  {
   "cell_type": "code",
   "execution_count": 10,
   "metadata": {},
   "outputs": [
    {
     "name": "stderr",
     "output_type": "stream",
     "text": [
      "/tmp/ipykernel_923641/364940629.py:20: DeprecationWarning: Starting with ImageIO v3 the behavior of this function will switch to that of iio.v3.imread. To keep the current behavior (and make this warning disappear) use `import imageio.v2 as imageio` or call `imageio.v2.imread` directly.\n",
      "  ss = imageio.imread(im_path)\n",
      "/tmp/ipykernel_923641/364940629.py:25: DeprecationWarning: Please use `gaussian_filter` from the `scipy.ndimage` namespace, the `scipy.ndimage.filters` namespace is deprecated.\n",
      "  blur = scipy.ndimage.filters.gaussian_filter(i, sigma=13)\n"
     ]
    }
   ],
   "source": [
    "## Test the function\n",
    "\n",
    "TEST_PATH = \"animals/antelope/0a37838e99.jpg\"\n",
    "\n",
    "convert_image(TEST_PATH)"
   ]
  },
  {
   "cell_type": "markdown",
   "metadata": {},
   "source": [
    " check image channels"
   ]
  },
  {
   "cell_type": "code",
   "execution_count": 11,
   "metadata": {},
   "outputs": [
    {
     "name": "stdout",
     "output_type": "stream",
     "text": [
      "Number of Channels: 3\n"
     ]
    }
   ],
   "source": [
    "image = cv2.imread(\"figures/antelope/0a37838e99.jpg\")\n",
    "\n",
    "# Get the number of channels\n",
    "num_channels = image.shape[2]  # The third dimension of the image shape is the number of channels\n",
    "\n",
    "print(\"Number of Channels:\", num_channels)"
   ]
  },
  {
   "cell_type": "markdown",
   "metadata": {},
   "source": [
    "Set up directory by creating identical filenames"
   ]
  },
  {
   "cell_type": "code",
   "execution_count": 9,
   "metadata": {},
   "outputs": [],
   "source": [
    "# Set up directory by creating identical filenames\n",
    "import os\n",
    "\n",
    "# Specify the source directory containing subdirectories\n",
    "source_directory = './animals/'\n",
    "\n",
    "# Specify the target directory where you want to replicate the subdirectories\n",
    "target_directory = './figures/'\n",
    "\n",
    "# Iterate through subdirectories in the source directory\n",
    "for root, dirs, files in os.walk(source_directory):\n",
    "    for subdirectory in dirs:\n",
    "        source_subdir = os.path.join(root, subdirectory)  # Full path to the subdirectory in the source\n",
    "        target_subdir = os.path.join(target_directory, os.path.relpath(source_subdir, source_directory))\n",
    "\n",
    "        # Create the subdirectory in the target directory\n",
    "        os.makedirs(target_subdir, exist_ok=True)"
   ]
  },
  {
   "cell_type": "markdown",
   "metadata": {},
   "source": [
    "Convert files from animals to figures"
   ]
  },
  {
   "cell_type": "code",
   "execution_count": 12,
   "metadata": {},
   "outputs": [
    {
     "name": "stderr",
     "output_type": "stream",
     "text": [
      "/tmp/ipykernel_923641/364940629.py:20: DeprecationWarning: Starting with ImageIO v3 the behavior of this function will switch to that of iio.v3.imread. To keep the current behavior (and make this warning disappear) use `import imageio.v2 as imageio` or call `imageio.v2.imread` directly.\n",
      "  ss = imageio.imread(im_path)\n",
      "/tmp/ipykernel_923641/364940629.py:25: DeprecationWarning: Please use `gaussian_filter` from the `scipy.ndimage` namespace, the `scipy.ndimage.filters` namespace is deprecated.\n",
      "  blur = scipy.ndimage.filters.gaussian_filter(i, sigma=13)\n"
     ]
    }
   ],
   "source": [
    "root_directory = './animals/'\n",
    "target_directory = './figures/' # not actually used\n",
    "\n",
    "for root, dirs, files in os.walk(root_directory):\n",
    "    for file in files:\n",
    "        image_path = os.path.join(root, file)\n",
    "        convert_image(image_path)"
   ]
  }
 ],
 "metadata": {
  "kernelspec": {
   "display_name": "torch114",
   "language": "python",
   "name": "python3"
  },
  "language_info": {
   "codemirror_mode": {
    "name": "ipython",
    "version": 3
   },
   "file_extension": ".py",
   "mimetype": "text/x-python",
   "name": "python",
   "nbconvert_exporter": "python",
   "pygments_lexer": "ipython3",
   "version": "3.10.13"
  }
 },
 "nbformat": 4,
 "nbformat_minor": 2
}
